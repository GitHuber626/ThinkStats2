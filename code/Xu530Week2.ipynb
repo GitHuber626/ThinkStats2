{
 "cells": [
  {
   "cell_type": "code",
   "execution_count": 2,
   "id": "cf0cdf33-150e-48e7-b2ba-ec7e7fc18a3e",
   "metadata": {},
   "outputs": [
    {
     "name": "stdout",
     "output_type": "stream",
     "text": [
      "Hello World! My name is Zicheng (Chance) Xu\n"
     ]
    }
   ],
   "source": [
    "# Display the text “Hello World! My name is ....\"\n",
    "name = \"Zicheng (Chance) Xu\"\n",
    "print(f'Hello World! My name is {name}')"
   ]
  },
  {
   "cell_type": "code",
   "execution_count": 3,
   "id": "661301bb-ae48-42f0-9392-e85ad727438f",
   "metadata": {},
   "outputs": [
    {
     "data": {
      "text/plain": [
       "2"
      ]
     },
     "execution_count": 3,
     "metadata": {},
     "output_type": "execute_result"
    }
   ],
   "source": [
    "# Add two numbers together\n",
    "1 + 1"
   ]
  },
  {
   "cell_type": "code",
   "execution_count": 4,
   "id": "9f97e527-8805-4cee-a622-c1a126a591b1",
   "metadata": {},
   "outputs": [
    {
     "data": {
      "text/plain": [
       "2"
      ]
     },
     "execution_count": 4,
     "metadata": {},
     "output_type": "execute_result"
    }
   ],
   "source": [
    "# Subtract a number from another number\n",
    "3 - 1"
   ]
  },
  {
   "cell_type": "code",
   "execution_count": 5,
   "id": "ccfae614-42a5-486a-859e-0fae524cc7d6",
   "metadata": {},
   "outputs": [
    {
     "data": {
      "text/plain": [
       "9"
      ]
     },
     "execution_count": 5,
     "metadata": {},
     "output_type": "execute_result"
    }
   ],
   "source": [
    "# Multiply two numbers\n",
    "3 * 3"
   ]
  },
  {
   "cell_type": "code",
   "execution_count": 6,
   "id": "67f7bc73-f6f4-4072-a3c4-ec3a06e6aa3e",
   "metadata": {},
   "outputs": [
    {
     "data": {
      "text/plain": [
       "2.5"
      ]
     },
     "execution_count": 6,
     "metadata": {},
     "output_type": "execute_result"
    }
   ],
   "source": [
    "# Divide between two numbers\n",
    "5 / 2"
   ]
  },
  {
   "cell_type": "code",
   "execution_count": 7,
   "id": "eb236b00-c070-4a2c-8771-3a808b399cab",
   "metadata": {},
   "outputs": [
    {
     "data": {
      "text/plain": [
       "'Wonderful World!'"
      ]
     },
     "execution_count": 7,
     "metadata": {},
     "output_type": "execute_result"
    }
   ],
   "source": [
    "# Concatenate two strings together (any words)\n",
    "\"Wonderful\" + \" \" + \"World!\""
   ]
  },
  {
   "cell_type": "code",
   "execution_count": 8,
   "id": "f54f513b-a11c-4d0a-af13-d6d3042c3c4d",
   "metadata": {},
   "outputs": [],
   "source": [
    "# Create a list of 4 items (can be strings, numbers, both)\n",
    "stocks = ['Tesla','Apple','Nvidia','Microsoft']"
   ]
  },
  {
   "cell_type": "code",
   "execution_count": 9,
   "id": "7de1055c-ab8f-4f08-8c49-ccac6e3a88d2",
   "metadata": {},
   "outputs": [
    {
     "data": {
      "text/plain": [
       "['Tesla', 'Apple', 'Nvidia', 'Microsoft', 'AMD']"
      ]
     },
     "execution_count": 9,
     "metadata": {},
     "output_type": "execute_result"
    }
   ],
   "source": [
    "# Append an item to your list (again, can be a string, number)\n",
    "stocks.append('AMD')\n",
    "stocks"
   ]
  },
  {
   "cell_type": "code",
   "execution_count": 10,
   "id": "f2386ff9-475c-40dd-b759-db0677e6379b",
   "metadata": {},
   "outputs": [
    {
     "data": {
      "text/plain": [
       "('Tesla', 'Apple', 'Nvidia', 'Microsoft')"
      ]
     },
     "execution_count": 10,
     "metadata": {},
     "output_type": "execute_result"
    }
   ],
   "source": [
    "# Create a tuple with 4 items (can be strings, numbers, both)\n",
    "stocks2 = ('Tesla','Apple','Nvidia','Microsoft')\n",
    "stocks2"
   ]
  },
  {
   "cell_type": "code",
   "execution_count": 11,
   "id": "c93882b2-a1da-4c61-a806-272ae63ed6dc",
   "metadata": {},
   "outputs": [
    {
     "name": "stdout",
     "output_type": "stream",
     "text": [
      "<class 'list'>\n"
     ]
    },
    {
     "data": {
      "text/plain": [
       "tuple"
      ]
     },
     "execution_count": 11,
     "metadata": {},
     "output_type": "execute_result"
    }
   ],
   "source": [
    "print(type(stocks))\n",
    "type(stocks2)"
   ]
  },
  {
   "cell_type": "code",
   "execution_count": null,
   "id": "5a0354fb-3f65-4095-8bf2-862a53e2aa97",
   "metadata": {},
   "outputs": [],
   "source": []
  }
 ],
 "metadata": {
  "kernelspec": {
   "display_name": "Python 3 (ipykernel)",
   "language": "python",
   "name": "python3"
  },
  "language_info": {
   "codemirror_mode": {
    "name": "ipython",
    "version": 3
   },
   "file_extension": ".py",
   "mimetype": "text/x-python",
   "name": "python",
   "nbconvert_exporter": "python",
   "pygments_lexer": "ipython3",
   "version": "3.11.7"
  }
 },
 "nbformat": 4,
 "nbformat_minor": 5
}
